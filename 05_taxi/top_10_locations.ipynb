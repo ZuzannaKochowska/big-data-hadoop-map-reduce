{
 "cells": [
  {
   "cell_type": "code",
   "execution_count": 10,
   "id": "b3cd8b8e-a357-4369-8b0b-267559425103",
   "metadata": {},
   "outputs": [
    {
     "data": {
      "text/html": [
       "<div>\n",
       "<style scoped>\n",
       "    .dataframe tbody tr th:only-of-type {\n",
       "        vertical-align: middle;\n",
       "    }\n",
       "\n",
       "    .dataframe tbody tr th {\n",
       "        vertical-align: top;\n",
       "    }\n",
       "\n",
       "    .dataframe thead th {\n",
       "        text-align: right;\n",
       "    }\n",
       "</style>\n",
       "<table border=\"1\" class=\"dataframe\">\n",
       "  <thead>\n",
       "    <tr style=\"text-align: right;\">\n",
       "      <th></th>\n",
       "      <th>coordinates</th>\n",
       "      <th>amount</th>\n",
       "    </tr>\n",
       "  </thead>\n",
       "  <tbody>\n",
       "    <tr>\n",
       "      <th>0</th>\n",
       "      <td>0.0, 0.0</td>\n",
       "      <td>170212</td>\n",
       "    </tr>\n",
       "    <tr>\n",
       "      <th>1</th>\n",
       "      <td>-73.9546, 40.821002</td>\n",
       "      <td>1022</td>\n",
       "    </tr>\n",
       "    <tr>\n",
       "      <th>2</th>\n",
       "      <td>-73.8708, 40.773738</td>\n",
       "      <td>655</td>\n",
       "    </tr>\n",
       "    <tr>\n",
       "      <th>3</th>\n",
       "      <td>-73.8744, 40.774051</td>\n",
       "      <td>640</td>\n",
       "    </tr>\n",
       "    <tr>\n",
       "      <th>4</th>\n",
       "      <td>-73.8745, 40.774108</td>\n",
       "      <td>616</td>\n",
       "    </tr>\n",
       "    <tr>\n",
       "      <th>5</th>\n",
       "      <td>-73.8744, 40.774028</td>\n",
       "      <td>605</td>\n",
       "    </tr>\n",
       "    <tr>\n",
       "      <th>6</th>\n",
       "      <td>-73.8745, 40.774101</td>\n",
       "      <td>598</td>\n",
       "    </tr>\n",
       "    <tr>\n",
       "      <th>7</th>\n",
       "      <td>-73.8744, 40.77407</td>\n",
       "      <td>589</td>\n",
       "    </tr>\n",
       "    <tr>\n",
       "      <th>8</th>\n",
       "      <td>-73.8708, 40.773761</td>\n",
       "      <td>561</td>\n",
       "    </tr>\n",
       "    <tr>\n",
       "      <th>9</th>\n",
       "      <td>-73.8708, 40.773731</td>\n",
       "      <td>558</td>\n",
       "    </tr>\n",
       "  </tbody>\n",
       "</table>\n",
       "</div>"
      ],
      "text/plain": [
       "           coordinates  amount\n",
       "0             0.0, 0.0  170212\n",
       "1  -73.9546, 40.821002    1022\n",
       "2  -73.8708, 40.773738     655\n",
       "3  -73.8744, 40.774051     640\n",
       "4  -73.8745, 40.774108     616\n",
       "5  -73.8744, 40.774028     605\n",
       "6  -73.8745, 40.774101     598\n",
       "7   -73.8744, 40.77407     589\n",
       "8  -73.8708, 40.773761     561\n",
       "9  -73.8708, 40.773731     558"
      ]
     },
     "execution_count": 10,
     "metadata": {},
     "output_type": "execute_result"
    }
   ],
   "source": [
    "import pandas as pd\n",
    "names_of_columns = ['coordinates','amount']\n",
    "df = pd.read_csv('top_10_locations.csv', sep='\\t', header=None, names=names_of_columns)\n",
    "df['coordinates'] = df['coordinates'].str[1:-1]\n",
    "\n",
    "df"
   ]
  },
  {
   "cell_type": "code",
   "execution_count": 4,
   "id": "1bf64537-c353-4b50-887e-09b888f90fa5",
   "metadata": {},
   "outputs": [
    {
     "ename": "SyntaxError",
     "evalue": "incomplete input (1237045961.py, line 23)",
     "output_type": "error",
     "traceback": [
      "\u001b[1;36m  Cell \u001b[1;32mIn[4], line 23\u001b[1;36m\u001b[0m\n\u001b[1;33m    fig.show()\u001b[0m\n\u001b[1;37m              ^\u001b[0m\n\u001b[1;31mSyntaxError\u001b[0m\u001b[1;31m:\u001b[0m incomplete input\n"
     ]
    }
   ],
   "source": [
    "import plotly.express as px\n",
    "import pandas as pd\n",
    "names_of_columns = ['coordinates','amount']\n",
    "df = pd.read_csv('top_10_locations.csv', sep='\\t', header=None, names=names_of_columns)\n",
    "df['coordinates'] = df['coordinates'].str[1:-1]\n",
    "df['amount'] = df['amount'].astype(int)\n",
    "\n",
    "fig = px.bar(data_frame=df,\n",
    "                x =\"coordinates\", \n",
    "                y =\"amount\",\n",
    "                 color=\"amount\",\n",
    "                 title='Top 10 lokalizacji odbioru taxi',\n",
    "                     labels={\n",
    "      'longitude': 'Długość geograficzna',\n",
    "      'latitude': 'Szerokość geograficzna',\n",
    "      'amount': 'Liczba kursów'},\n",
    "                           width=1000,   # szerokość w pikselach\n",
    "    height=600\n",
    "                         \n",
    ")\n",
    "fig.update_yaxes(range=[0, 1500])\n",
    "update_traces(marker_color='#006666)\n",
    "fig.show()"
   ]
  },
  {
   "cell_type": "code",
   "execution_count": null,
   "id": "be058433-a0dc-4422-b6aa-3ae8bcd3bdc5",
   "metadata": {},
   "outputs": [],
   "source": []
  }
 ],
 "metadata": {
  "kernelspec": {
   "display_name": "Python 3 (ipykernel)",
   "language": "python",
   "name": "python3"
  },
  "language_info": {
   "codemirror_mode": {
    "name": "ipython",
    "version": 3
   },
   "file_extension": ".py",
   "mimetype": "text/x-python",
   "name": "python",
   "nbconvert_exporter": "python",
   "pygments_lexer": "ipython3",
   "version": "3.10.11"
  }
 },
 "nbformat": 4,
 "nbformat_minor": 5
}
